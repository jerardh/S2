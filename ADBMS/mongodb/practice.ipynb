{
 "cells": [
  {
   "cell_type": "code",
   "execution_count": 1,
   "id": "8da7c49e",
   "metadata": {},
   "outputs": [],
   "source": [
    "from pymongo import mongo_client"
   ]
  },
  {
   "cell_type": "code",
   "execution_count": 4,
   "id": "359ae545",
   "metadata": {},
   "outputs": [],
   "source": [
    "conn=mongo_client.MongoClient(\"localhost:27017\")\n",
    "mongodemo=conn[\"mongodemo\"]\n",
    "students=mongodemo[\"students\"]"
   ]
  },
  {
   "cell_type": "code",
   "execution_count": null,
   "id": "326f14ce",
   "metadata": {},
   "outputs": [
    {
     "data": {
      "text/plain": [
       "InsertOneResult(ObjectId('682b3cdc4a951e97cbb22008'), acknowledged=True)"
      ]
     },
     "execution_count": 5,
     "metadata": {},
     "output_type": "execute_result"
    }
   ],
   "source": [
    "#inserting\n",
    "students.insert_one(\n",
    "    {\"name\":\"Alice\",\"age\":20,\"marks\":{\"bio\":90,\"cs\":85, \"mat\":96}}\n",
    "    )"
   ]
  },
  {
   "cell_type": "code",
   "execution_count": 6,
   "id": "10687e82",
   "metadata": {},
   "outputs": [
    {
     "data": {
      "text/plain": [
       "InsertManyResult([ObjectId('682b40264a951e97cbb22009'), ObjectId('682b40264a951e97cbb2200a'), ObjectId('682b40264a951e97cbb2200b'), ObjectId('682b40264a951e97cbb2200c')], acknowledged=True)"
      ]
     },
     "execution_count": 6,
     "metadata": {},
     "output_type": "execute_result"
    }
   ],
   "source": [
    "students.insert_many([\n",
    "     {\"name\":\"Jose\",\"age\":22,\"marks\":{\"bio\":94,\"cs\":65, \"mat\":99}},\n",
    "     {\"name\":\"Asha\",\"age\":23,\"marks\":{\"bio\":94,\"cs\":69, \"mat\":88}},\n",
    "     {\"name\":\"Sumtih\",\"age\":19,\"marks\":{\"bio\":54,\"cs\":90, \"mat\":80}},\n",
    "     {\"name\":\"Alin Jose\",\"age\":23,\"marks\":{\"bio\":99,\"cs\":55, \"mat\":32}}\n",
    "])"
   ]
  },
  {
   "cell_type": "code",
   "execution_count": null,
   "id": "6ba3fb91",
   "metadata": {},
   "outputs": [
    {
     "name": "stdout",
     "output_type": "stream",
     "text": [
      "{'name': 'Asha'}\n",
      "{'name': 'Alice'}\n",
      "{'name': 'Jose'}\n"
     ]
    }
   ],
   "source": [
    "#students with gt 85 mark in maths sorted by marks\n",
    "pipeline=[\n",
    "    {\"$match\":{\"marks.mat\":{\"$gt\":85}}},\n",
    "    {\"$sort\":{\"marks.mat\":1}},\n",
    "    {\"$project\":{\"_id\":0,\"name\":1}}\n",
    "    ]\n",
    "res=students.aggregate(pipeline)\n",
    "for row in res:\n",
    "    print(row)"
   ]
  },
  {
   "cell_type": "code",
   "execution_count": 17,
   "id": "4ee26668",
   "metadata": {},
   "outputs": [
    {
     "name": "stdout",
     "output_type": "stream",
     "text": [
      "{'name': 'Alice', 'age': 20}\n",
      "{'name': 'Jose', 'age': 22}\n",
      "{'name': 'Asha', 'age': 23}\n",
      "{'name': 'Sumtih', 'age': 19}\n",
      "{'name': 'Alin Jose', 'age': 23}\n"
     ]
    }
   ],
   "source": [
    "#project only name and age\n",
    "pipeline=[{\"$project\":{\"_id\":0,\"name\":1,\"age\":1}}]\n",
    "res=students.aggregate(pipeline)\n",
    "for row in res:\n",
    "    print(row)"
   ]
  },
  {
   "cell_type": "code",
   "execution_count": 19,
   "id": "bc97b785",
   "metadata": {},
   "outputs": [
    {
     "name": "stdout",
     "output_type": "stream",
     "text": [
      "{'name': 'Jose', 'age': 22, 'marks': {'bio': 94, 'cs': 65, 'mat': 99}}\n"
     ]
    }
   ],
   "source": [
    "#students with age=22\n",
    "pipeline=[{\"$match\":{\"age\":{\"$eq\":22}}},\n",
    "          {\"$project\":{\"_id\":0}}\n",
    "          ]\n",
    "res=students.aggregate(pipeline)\n",
    "for row in res:\n",
    "    print(row)"
   ]
  },
  {
   "cell_type": "code",
   "execution_count": 26,
   "id": "55aa7457",
   "metadata": {},
   "outputs": [
    {
     "name": "stdout",
     "output_type": "stream",
     "text": [
      "{'_id': ObjectId('682b40264a951e97cbb2200c'), 'name': 'Alin Jose', 'age': 23, 'marks': {'bio': 99, 'cs': 55, 'mat': 32}}\n"
     ]
    }
   ],
   "source": [
    "#student having lowest mark in cs\n",
    "pipeline=[{\"$sort\":{\"marks.cs\":1}},\n",
    "          {\"$limit\":1}\n",
    "          ]\n",
    "res=students.aggregate(pipeline)\n",
    "for row in res:\n",
    "    print(row)"
   ]
  },
  {
   "cell_type": "code",
   "execution_count": null,
   "id": "6b4b7b2f",
   "metadata": {},
   "outputs": [
    {
     "name": "stdout",
     "output_type": "stream",
     "text": [
      "{'_id': ObjectId('682b3cdc4a951e97cbb22008'), 'name': 'Alice', 'age': 20, 'marks': {'bio': 90, 'cs': 85, 'mat': 96}}\n",
      "{'_id': ObjectId('682b40264a951e97cbb22009'), 'name': 'Jose', 'age': 22, 'marks': {'bio': 94, 'cs': 65, 'mat': 99}}\n",
      "{'_id': ObjectId('682b40264a951e97cbb2200a'), 'name': 'Asha', 'age': 23, 'marks': {'bio': 94, 'cs': 69, 'mat': 88}}\n",
      "{'_id': ObjectId('682b40264a951e97cbb2200b'), 'name': 'Sumtih', 'age': 19, 'marks': {'bio': 54, 'cs': 90, 'mat': 80}}\n",
      "{'_id': ObjectId('682b40264a951e97cbb2200c'), 'name': 'Alin Jose Perera', 'age': 23, 'marks': {'bio': 99, 'cs': 55, 'mat': 32}}\n"
     ]
    }
   ],
   "source": [
    "#upadating name of a student\n",
    "students.update_many({\"name\":\"Alin Jose\"},{\"$set\":{\"name\":\"Alin Jose Perera\"}})\n",
    "res=students.find()\n",
    "for row in res:\n",
    "    print(row)"
   ]
  },
  {
   "cell_type": "code",
   "execution_count": 33,
   "id": "870d9093",
   "metadata": {},
   "outputs": [
    {
     "name": "stdout",
     "output_type": "stream",
     "text": [
      "{'_id': ObjectId('682b3cdc4a951e97cbb22008'), 'name': 'Alice', 'age': 20, 'marks': {'bio': 90, 'cs': 85, 'mat': 96}}\n",
      "{'_id': ObjectId('682b40264a951e97cbb22009'), 'name': 'Jose', 'age': 22, 'marks': {'bio': 94, 'cs': 65, 'mat': 99}}\n"
     ]
    }
   ],
   "source": [
    "#select studdent with age =20 or name=Jose\n",
    "pipeline=[{\"$match\":{\"$or\":[{\"name\":\"Jose\"},{\"age\":20}]}}]\n",
    "res=students.aggregate(pipeline)\n",
    "for row in res:\n",
    "    print(row)"
   ]
  }
 ],
 "metadata": {
  "kernelspec": {
   "display_name": "base",
   "language": "python",
   "name": "python3"
  },
  "language_info": {
   "codemirror_mode": {
    "name": "ipython",
    "version": 3
   },
   "file_extension": ".py",
   "mimetype": "text/x-python",
   "name": "python",
   "nbconvert_exporter": "python",
   "pygments_lexer": "ipython3",
   "version": "3.12.7"
  }
 },
 "nbformat": 4,
 "nbformat_minor": 5
}
