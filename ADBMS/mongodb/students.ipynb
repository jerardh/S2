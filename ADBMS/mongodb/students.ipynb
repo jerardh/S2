{
 "cells": [
  {
   "cell_type": "code",
   "execution_count": 1,
   "metadata": {},
   "outputs": [],
   "source": [
    "from pymongo import mongo_client\n",
    "conn=mongo_client.MongoClient(\"mongodb://localhost:27017\")\n",
    "local=conn[\"local\"]\n",
    "students=local[\"students\"]"
   ]
  },
  {
   "cell_type": "code",
   "execution_count": 2,
   "metadata": {},
   "outputs": [
    {
     "data": {
      "text/plain": [
       "InsertManyResult([ObjectId('67e248718bc9013e03b4eecd'), ObjectId('67e248718bc9013e03b4eece'), ObjectId('67e248718bc9013e03b4eecf'), ObjectId('67e248718bc9013e03b4eed0'), ObjectId('67e248718bc9013e03b4eed1'), ObjectId('67e248718bc9013e03b4eed2'), ObjectId('67e248718bc9013e03b4eed3'), ObjectId('67e248718bc9013e03b4eed4'), ObjectId('67e248718bc9013e03b4eed5'), ObjectId('67e248718bc9013e03b4eed6'), ObjectId('67e248718bc9013e03b4eed7'), ObjectId('67e248718bc9013e03b4eed8')], acknowledged=True)"
      ]
     },
     "execution_count": 2,
     "metadata": {},
     "output_type": "execute_result"
    }
   ],
   "source": [
    "data=[\n",
    "    {\"f_name\":\"Jerardh\",\"l_name\":\"Tom\",\"gender\":\"male\",\"mark\":90,\"dept\":\"MCA\",\"place\":\"Idukki\"},\n",
    "    {\"f_name\":\"Bhavana\",\"l_name\":\"Theruvath\",\"gender\":\"female\",\"mark\":85,\"dept\":\"MCA\",\"place\":\"Kollam\"},\n",
    "    {\"f_name\":\"Khureshi\",\"l_name\":\"Abraam\",\"gender\":\"male\",\"mark\":66,\"dept\":\"Mech\",\"place\":\"Trivandrum\"},\n",
    "    {\"f_name\":\"Thoppil\",\"l_name\":\"Joppan\",\"gender\":\"male\",\"mark\":35,\"dept\":\"Mech\",\"place\":\"Kottayam\"},\n",
    "    {\"f_name\":\"Maya\",\"l_name\":\"Mohan\",\"gender\":\"female\",\"mark\":69,\"dept\":\"CSE\",\"place\":\"Kollam\"},\n",
    "    {\"f_name\":\"Stephen\",\"l_name\":\"Nedumpally\",\"gender\":\"male\",\"mark\":99,\"dept\":\"Mech\",\"place\":\"Palakkad\"},\n",
    "    {\"f_name\":\"Sorav\",\"l_name\":\"Sarath\",\"gender\":\"male\",\"mark\":89,\"dept\":\"CSE\",\"place\":\"Trivandrum\"},\n",
    "    {\"f_name\":\"Reema\",\"l_name\":\"Babu\",\"gender\":\"female\",\"mark\":77,\"dept\":\"Mech\",\"place\":\"Kollam\"},\n",
    "    {\"f_name\":\"Sahal\",\"l_name\":\"Samad\",\"gender\":\"male\",\"mark\":55,\"dept\":\"EEE\",\"place\":\"Malappuram\"},\n",
    "    {\"f_name\":\"Nandana\",\"l_name\":\"Narayan\",\"gender\":\"female\",\"mark\":83,\"dept\":\"MCA\",\"place\":\"Kannur\"},\n",
    "    {\"f_name\":\"Subi\",\"l_name\":\"Suresh\",\"gender\":\"male\",\"mark\":69,\"dept\":\"ECE\",\"place\":\"Kollam\"},\n",
    "    {\"f_name\":\"Abin\",\"l_name\":\"Varghese\",\"gender\":\"male\",\"mark\":100,\"dept\":\"Mech\",\"place\":\"Alappuzha\"},\n",
    "]\n",
    "students.insert_many(data)"
   ]
  },
  {
   "cell_type": "code",
   "execution_count": 3,
   "metadata": {},
   "outputs": [
    {
     "name": "stdout",
     "output_type": "stream",
     "text": [
      "{'f_name': 'Bhavana', 'l_name': 'Theruvath', 'mark': 85}\n",
      "{'f_name': 'Nandana', 'l_name': 'Narayan', 'mark': 83}\n"
     ]
    }
   ],
   "source": [
    "#name,mark of all female students  in MCA\n",
    "res=students.find({\"gender\":\"female\",\"dept\":\"MCA\"},{\"_id\":0,\"f_name\":1,\"l_name\":1,\"mark\":1})\n",
    "for row in res:\n",
    "    print(row)"
   ]
  },
  {
   "cell_type": "code",
   "execution_count": null,
   "metadata": {},
   "outputs": [],
   "source": [
    "#details of students who secured highest mark in MCA"
   ]
  },
  {
   "cell_type": "code",
   "execution_count": 6,
   "metadata": {},
   "outputs": [
    {
     "name": "stdout",
     "output_type": "stream",
     "text": [
      "{'f_name': 'Jerardh', 'l_name': 'Tom', 'gender': 'male', 'mark': 90, 'dept': 'MCA', 'place': 'Idukki'}\n",
      "{'f_name': 'Stephen', 'l_name': 'Nedumpally', 'gender': 'male', 'mark': 99, 'dept': 'Mech', 'place': 'Palakkad'}\n",
      "{'f_name': 'Abin', 'l_name': 'Varghese', 'gender': 'male', 'mark': 100, 'dept': 'Mech', 'place': 'Alappuzha'}\n"
     ]
    }
   ],
   "source": [
    "#all male students who got A+ grade\n",
    "\n",
    "res=students.find({\"gender\":\"male\",\"mark\":{\"$gte\":90}},{\"_id\":0})\n",
    "for row in res:\n",
    "    print(row)"
   ]
  },
  {
   "cell_type": "code",
   "execution_count": null,
   "metadata": {},
   "outputs": [],
   "source": [
    "#top 5 students in mechanical dept"
   ]
  },
  {
   "cell_type": "code",
   "execution_count": 7,
   "metadata": {},
   "outputs": [],
   "source": [
    "#female students with mark more than 90\n",
    "res=students.find({\"gender\":\"female\",\"mark\":{\"$gt\":90}},{\"_id\":0})\n",
    "for row in res:\n",
    "    print(row)"
   ]
  },
  {
   "cell_type": "code",
   "execution_count": 12,
   "metadata": {},
   "outputs": [
    {
     "name": "stdout",
     "output_type": "stream",
     "text": [
      "{'f_name': 'Antony', 'l_name': 'Joppan', 'gender': 'male', 'mark': 85, 'dept': 'Mech', 'place': 'Kottayam'}\n"
     ]
    }
   ],
   "source": [
    "#students with mark b/w 80 and 90 with name starting with \"A\"\n",
    "\n",
    "res=students.find(\n",
    "    {\"mark\":{\"$gte\":80},\n",
    "     \"mark\":{\"$lte\":90},\n",
    "     \"f_name\":{\"$regex\":\"^A\"}\n",
    "     },\n",
    "     {\"_id\":0})\n",
    "for row in res:\n",
    "    print(row)"
   ]
  },
  {
   "cell_type": "code",
   "execution_count": 2,
   "metadata": {},
   "outputs": [
    {
     "name": "stdout",
     "output_type": "stream",
     "text": [
      "{'f_name': 'Bhavana', 'l_name': 'Theruvath', 'gender': 'female', 'mark': 85, 'dept': 'MCA', 'place': 'Kollam'}\n",
      "{'f_name': 'Maya', 'l_name': 'Mohan', 'gender': 'female', 'mark': 69, 'dept': 'CSE', 'place': 'Kollam'}\n",
      "{'f_name': 'Reema', 'l_name': 'Babu', 'gender': 'female', 'mark': 77, 'dept': 'Mech', 'place': 'Kollam'}\n",
      "{'f_name': 'Subi', 'l_name': 'Suresh', 'gender': 'male', 'mark': 69, 'dept': 'ECE', 'place': 'Kollam'}\n"
     ]
    }
   ],
   "source": [
    "#students from kollam\n",
    "res=students.find({\"place\":\"Kollam\"},{\"_id\":0})\n",
    "for row in res:\n",
    "    print(row)"
   ]
  },
  {
   "cell_type": "code",
   "execution_count": 9,
   "metadata": {},
   "outputs": [
    {
     "name": "stdout",
     "output_type": "stream",
     "text": [
      "{'f_name': 'Jerardh', 'l_name': 'Tom', 'gender': 'male', 'mark': 90, 'dept': 'MCA', 'place': 'Idukki'}\n",
      "{'f_name': 'Bhavana', 'l_name': 'Theruvath', 'gender': 'female', 'mark': 85, 'dept': 'MCA', 'place': 'Kollam'}\n",
      "{'f_name': 'Antony', 'l_name': 'Joppan', 'gender': 'male', 'mark': 85, 'dept': 'Mech', 'place': 'Kottayam'}\n",
      "{'f_name': 'Maya', 'l_name': 'Mohan', 'gender': 'female', 'mark': 69, 'dept': 'CSE', 'place': 'Kollam'}\n",
      "{'f_name': 'Stephen', 'l_name': 'Nedumpally', 'gender': 'male', 'mark': 99, 'dept': 'Mech', 'place': 'Palakkad'}\n",
      "{'f_name': 'Reema', 'l_name': 'Babu', 'gender': 'female', 'mark': 77, 'dept': 'Mech', 'place': 'Kollam'}\n",
      "{'f_name': 'Nandana', 'l_name': 'Narayan', 'gender': 'female', 'mark': 83, 'dept': 'MCA', 'place': 'Kannur'}\n",
      "{'f_name': 'Subi', 'l_name': 'Suresh', 'gender': 'male', 'mark': 69, 'dept': 'ECE', 'place': 'Kollam'}\n",
      "{'f_name': 'Abin', 'l_name': 'Varghese', 'gender': 'male', 'mark': 100, 'dept': 'Mech', 'place': 'Alappuzha'}\n"
     ]
    }
   ],
   "source": [
    "#students not from malappuram or trivandrum\n",
    "res=students.find({\"place\":{\"$nin\":[\"Trivandrum\",\"Malappuram\"]}},{\"_id\":0})\n",
    "for row in res:\n",
    "    print(row)"
   ]
  }
 ],
 "metadata": {
  "kernelspec": {
   "display_name": "Python 3",
   "language": "python",
   "name": "python3"
  },
  "language_info": {
   "codemirror_mode": {
    "name": "ipython",
    "version": 3
   },
   "file_extension": ".py",
   "mimetype": "text/x-python",
   "name": "python",
   "nbconvert_exporter": "python",
   "pygments_lexer": "ipython3",
   "version": "3.12.0"
  }
 },
 "nbformat": 4,
 "nbformat_minor": 2
}
