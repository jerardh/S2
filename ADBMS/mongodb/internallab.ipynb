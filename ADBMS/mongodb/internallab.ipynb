{
 "cells": [
  {
   "cell_type": "code",
   "execution_count": 2,
   "id": "91e52817",
   "metadata": {},
   "outputs": [],
   "source": [
    "from pymongo import mongo_client\n",
    "conn=mongo_client.MongoClient(\"localhost:27017\")\n",
    "db=conn[\"exam\"]\n",
    "students=db[\"students\"]"
   ]
  },
  {
   "cell_type": "code",
   "execution_count": 3,
   "id": "bbc9f49a",
   "metadata": {},
   "outputs": [
    {
     "data": {
      "text/plain": [
       "InsertManyResult([ObjectId('682c0cd3ce046d06a3950ab0'), ObjectId('682c0cd3ce046d06a3950ab1'), ObjectId('682c0cd3ce046d06a3950ab2'), ObjectId('682c0cd3ce046d06a3950ab3'), ObjectId('682c0cd3ce046d06a3950ab4')], acknowledged=True)"
      ]
     },
     "execution_count": 3,
     "metadata": {},
     "output_type": "execute_result"
    }
   ],
   "source": [
    "data=[\n",
    "    {\"name\":\"Anjali\",\"place\":\"Kollam\",\"phone\":\"8978678753\",\"vaccination_status\":\"Both_Vaccinated\",\"rtpcr\":\"negative\",\"lab_mark\":{\"internal\":30,\"external\":45},\"department\":\"MCA\"},\n",
    "    {\"name\":\"Anuradha\",\"place\":\"Varkala\",\"phone\":\"4569609678753\",\"vaccination_status\":\"Both_Vaccinated\",\"rtpcr\":\"negative\",\"lab_mark\":{\"internal\":40,\"external\":48},\"department\":\"Civil\"},\n",
    "    {\"name\":\"Bismaya\",\"place\":\"Kollam\",\"phone\":\"89987878753\",\"vaccination_status\":\"Not_Vaccinated\",\"rtpcr\":\"positive\",\"lab_mark\":{\"internal\":50,\"external\":39},\"department\":\"MCA\"},\n",
    "    {\"name\":\"Vimal\",\"place\":\"Eranakulam\",\"phone\":\"8978678734\",\"vaccination_status\":\"First_Dose_Only\",\"rtpcr\":\"positive\",\"lab_mark\":{\"internal\":40,\"external\":42},\"department\":\"Civil\"},\n",
    "    {\"name\":\"Vivek\",\"place\":\"Kollam\",\"phone\":\"9979678753\",\"vaccination_status\":\"Both_Vaccinated\",\"rtpcr\":\"negative\",\"lab_mark\":{\"internal\":50,\"external\":50},\"department\":\"MCA\"}\n",
    "]\n",
    "students.insert_many(data)"
   ]
  },
  {
   "cell_type": "code",
   "execution_count": null,
   "id": "9f42926e",
   "metadata": {},
   "outputs": [
    {
     "name": "stdout",
     "output_type": "stream",
     "text": [
      "{'total': 1}\n"
     ]
    }
   ],
   "source": [
    "#1\n",
    "pipeline=[\n",
    "    {\"$match\":{\"vaccination_status\":\"Not_Vaccinated\"}},\n",
    "    { \"$count\":\"total\"}\n",
    "]\n",
    "res=students.aggregate(pipeline)\n",
    "for row in res:\n",
    "    print(row)"
   ]
  },
  {
   "cell_type": "code",
   "execution_count": 9,
   "id": "10897af6",
   "metadata": {},
   "outputs": [
    {
     "name": "stdout",
     "output_type": "stream",
     "text": [
      "{'name': 'Vivek', 'phone': '9979678753'}\n",
      "{'name': 'Anjali', 'phone': '8978678753'}\n",
      "{'name': 'Bismaya', 'phone': '89987878753'}\n"
     ]
    }
   ],
   "source": [
    "#2\n",
    "pipeline=[\n",
    "    {\"$match\":{\"department\":\"MCA\"}},\n",
    "    {\"$sort\":{\"lab_mark.external\":-1}},\n",
    "    {\"$project\":{\"_id\":0,\"name\":1,\"phone\":1}}\n",
    "]\n",
    "res=students.aggregate(pipeline)\n",
    "for row in res:\n",
    "    print(row)"
   ]
  },
  {
   "cell_type": "code",
   "execution_count": 15,
   "id": "9321724d",
   "metadata": {},
   "outputs": [
    {
     "name": "stdout",
     "output_type": "stream",
     "text": [
      "{'name': 'Anjali', 'department': 'MCA'}\n",
      "{'name': 'Anuradha', 'department': 'Civil'}\n"
     ]
    }
   ],
   "source": [
    "#3\n",
    "pipeline=[\n",
    "    {\"$match\":{\"name\":{\"$regex\":\"^A\"}}},\n",
    "    {\"$project\":{\"_id\":0,\"name\":1,\"department\":1}}\n",
    "]\n",
    "res=students.aggregate(pipeline)\n",
    "for row in res:\n",
    "    print(row)"
   ]
  }
 ],
 "metadata": {
  "kernelspec": {
   "display_name": "base",
   "language": "python",
   "name": "python3"
  },
  "language_info": {
   "codemirror_mode": {
    "name": "ipython",
    "version": 3
   },
   "file_extension": ".py",
   "mimetype": "text/x-python",
   "name": "python",
   "nbconvert_exporter": "python",
   "pygments_lexer": "ipython3",
   "version": "3.12.7"
  }
 },
 "nbformat": 4,
 "nbformat_minor": 5
}
